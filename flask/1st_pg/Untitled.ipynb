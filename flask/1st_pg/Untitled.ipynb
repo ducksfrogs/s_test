{
 "cells": [
  {
   "cell_type": "code",
   "execution_count": 2,
   "id": "62f2dc89-6263-4203-9fc9-63946b7b2ffe",
   "metadata": {},
   "outputs": [],
   "source": [
    "import os\n",
    "import psycopg2"
   ]
  },
  {
   "cell_type": "code",
   "execution_count": 15,
   "id": "18d2d593-c80b-4396-99cb-d4bb1ca938a5",
   "metadata": {},
   "outputs": [],
   "source": [
    "username = 'postgres'\n",
    "password = '0310'\n",
    "hostname ='127.0.0.1'\n",
    "port = '5432'\n",
    "db = 'test'"
   ]
  },
  {
   "cell_type": "code",
   "execution_count": 23,
   "id": "25b086ee-d993-4196-8ffd-1923745216d9",
   "metadata": {},
   "outputs": [],
   "source": [
    "DATABASE_URL = 'postgresql://{username}:{password}@{hostname}:{port}/{db}'"
   ]
  },
  {
   "cell_type": "code",
   "execution_count": 19,
   "id": "8b94f9c9-8683-4769-a436-70dc6c9a33da",
   "metadata": {},
   "outputs": [],
   "source": [
    "DATABASE_URL = \"postgresq://{'postgres'}:{'0310'}@{'127.0.0.1'}:{'5432'}/{'test'}\""
   ]
  },
  {
   "cell_type": "code",
   "execution_count": 24,
   "id": "6cc9b6e6-85de-4179-85e7-83a629e24758",
   "metadata": {},
   "outputs": [
    {
     "data": {
      "text/plain": [
       "'postgresql://{username}:{password}@{hostname}:{port}/{db}'"
      ]
     },
     "execution_count": 24,
     "metadata": {},
     "output_type": "execute_result"
    }
   ],
   "source": [
    "DATABASE_URL"
   ]
  },
  {
   "cell_type": "code",
   "execution_count": 27,
   "id": "95ec3fad-9bd4-44dd-9b01-505c7f05a81c",
   "metadata": {},
   "outputs": [],
   "source": [
    "dsn = \"dbname=test host=127.0.0.1 user=postgres password=0310\""
   ]
  },
  {
   "cell_type": "code",
   "execution_count": null,
   "id": "9dfdb77a-7bc0-4a1f-abb7-30354e3c270b",
   "metadata": {},
   "outputs": [],
   "source": []
  },
  {
   "cell_type": "code",
   "execution_count": 25,
   "id": "96a5babd-9e82-4631-939e-a28c4ae9b4dc",
   "metadata": {},
   "outputs": [],
   "source": [
    "def get_connection():\n",
    "    dsn = os.environ.get(DATABASE_URL)\n",
    "    return psycopg2.connect(dsn)"
   ]
  },
  {
   "cell_type": "code",
   "execution_count": 28,
   "id": "1401b4a7-3dc3-4fb8-9b0b-0aecb5bd1349",
   "metadata": {},
   "outputs": [],
   "source": [
    "def get_connection():\n",
    "    dsn = \"dbname=test host=127.0.0.1 user=postgres password=0310\"\n",
    "    return psycopg2.connect(dsn)"
   ]
  },
  {
   "cell_type": "code",
   "execution_count": 29,
   "id": "1ee6dfdf-e8a7-4eb6-a61c-01add24c3705",
   "metadata": {},
   "outputs": [],
   "source": [
    "conn = get_connection()"
   ]
  },
  {
   "cell_type": "code",
   "execution_count": 30,
   "id": "4d4c3771-4712-4c97-9af5-dfded4c0f506",
   "metadata": {},
   "outputs": [],
   "source": [
    "cur = conn.cursor()"
   ]
  },
  {
   "cell_type": "code",
   "execution_count": 35,
   "id": "b2be77e5-1c85-4384-a013-771d5a673416",
   "metadata": {},
   "outputs": [],
   "source": [
    "cur.execute(\"select * from weather2\")"
   ]
  },
  {
   "cell_type": "code",
   "execution_count": 36,
   "id": "8883fe7a-e3d0-48b7-9ff6-457d96f48a4a",
   "metadata": {},
   "outputs": [
    {
     "data": {
      "text/plain": [
       "b'select * from weather2'"
      ]
     },
     "execution_count": 36,
     "metadata": {},
     "output_type": "execute_result"
    }
   ],
   "source": [
    "cur.query"
   ]
  },
  {
   "cell_type": "code",
   "execution_count": 37,
   "id": "19a7fa1f-4684-4aae-b09b-23e3469b0a1d",
   "metadata": {},
   "outputs": [],
   "source": [
    "rows = cur.fetchall()"
   ]
  },
  {
   "cell_type": "code",
   "execution_count": 38,
   "id": "2bb9aed4-fc93-4f47-aab0-5e3f792eba84",
   "metadata": {},
   "outputs": [
    {
     "name": "stdout",
     "output_type": "stream",
     "text": [
      "[(1, 'Cicago', 35, 48, 0.24, datetime.datetime(2021, 10, 10, 0, 0)), (2, 'Tokyo', 32, 45, 0.5, datetime.datetime(2010, 9, 2, 0, 0)), (3, 'Tokyo', 35, 48, 0.24, datetime.datetime(2021, 10, 10, 0, 0)), (4, 'Osaka', 25, 39, 0.45, datetime.datetime(2021, 10, 10, 0, 0)), (5, 'Kyoto', 39, 59, 24.0, datetime.datetime(2011, 2, 1, 0, 0)), (6, 'Nagoya', 30, 40, 0.33, datetime.datetime(2010, 1, 1, 0, 0)), (7, 'Utsunomiya', 30, 45, 0.24, datetime.datetime(2021, 10, 8, 0, 0)), (8, 'Utsunomiya', 30, 45, 0.24, datetime.datetime(2021, 10, 8, 0, 0)), (1, 'Yaita', 10, 25, 0.33, datetime.datetime(2015, 10, 8, 0, 0)), (2, 'Yaita', 10, 25, 0.33, datetime.datetime(2015, 10, 8, 0, 0))]\n"
     ]
    }
   ],
   "source": [
    "print(rows)"
   ]
  },
  {
   "cell_type": "code",
   "execution_count": null,
   "id": "799bb605-feec-405d-b5fd-fbbfd115cf6b",
   "metadata": {},
   "outputs": [],
   "source": []
  }
 ],
 "metadata": {
  "kernelspec": {
   "display_name": "Python 3",
   "language": "python",
   "name": "python3"
  },
  "language_info": {
   "codemirror_mode": {
    "name": "ipython",
    "version": 3
   },
   "file_extension": ".py",
   "mimetype": "text/x-python",
   "name": "python",
   "nbconvert_exporter": "python",
   "pygments_lexer": "ipython3",
   "version": "3.8.8"
  }
 },
 "nbformat": 4,
 "nbformat_minor": 5
}
